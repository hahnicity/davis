{
 "cells": [
  {
   "cell_type": "markdown",
   "metadata": {
    "slideshow": {
     "slide_type": "slide"
    }
   },
   "source": [
    "# The Hacker Within - Davis Chapter\n",
    "\n",
    "*A monthly meetup of researchers, scientists, and engineers who are always learning new tips and tricks to make their computational and data work flows better.*\n",
    "\n",
    "![](thw-logo.png)\n",
    "\n",
    "Website [http://www.thehackerwithin.org/davis/]\n",
    "\n",
    "Email [https://lists.ucdavis.edu/sympa/info/thehackerwithin]\n",
    "\n",
    "Twitter [@hackerwithin]\n",
    "\n",
    "Github [https://github.com/thehackerwithin/davis]\n",
    "\n",
    "### Supported by the UCD Data Science Initiative\n",
    "\n",
    "http://datascience.ucdavis.edu/"
   ]
  },
  {
   "cell_type": "markdown",
   "metadata": {
    "slideshow": {
     "slide_type": "slide"
    }
   },
   "source": [
    "# Goals\n",
    "\n",
    "- Teach each other computing and data skills that supports our research needs\n",
    "- Build community around scientific computing and data technologies (students, researchers, engineers, staff, faculty, etc)\n",
    "- Engage at all levels of the computational scientific endeavor.\n",
    "- Language and tool neutral (except for openness)\n",
    "- Focus on tutorials, discussion, lightning talks, and hacking\n",
    "\n",
    "# Notes\n",
    "\n",
    "- Modeled after similar groups at UC Berkely and University of Wisconsin Madison"
   ]
  },
  {
   "cell_type": "code",
   "execution_count": 1,
   "metadata": {
    "collapsed": false,
    "slideshow": {
     "slide_type": "slide"
    }
   },
   "outputs": [
    {
     "name": "stdout",
     "output_type": "stream",
     "text": [
      "Number of responses: 52\n"
     ]
    },
    {
     "data": {
      "text/html": [
       "<div>\n",
       "<table border=\"1\" class=\"dataframe\">\n",
       "  <thead>\n",
       "    <tr style=\"text-align: right;\">\n",
       "      <th></th>\n",
       "      <th>Data Visualization Principles</th>\n",
       "      <th>Visualization: Dynamic &amp; Interactive</th>\n",
       "      <th>Statistical/Machine Learning methods</th>\n",
       "      <th>Natural Language Processing (NLP)</th>\n",
       "      <th>Hadoop &amp; MapReduce</th>\n",
       "      <th>UNIX Shell Tools &amp; Programming</th>\n",
       "      <th>Introduction to R</th>\n",
       "      <th>Introduction to Python</th>\n",
       "      <th>Parallel Programming</th>\n",
       "      <th>Using Graphical Processing Units (GPUs)</th>\n",
       "      <th>Version Control with git</th>\n",
       "      <th>Reproducible Computations, Dynamic Documents with R and/or IPython</th>\n",
       "      <th>Introduction to Cloud Computing</th>\n",
       "      <th>Basics of Databases</th>\n",
       "    </tr>\n",
       "  </thead>\n",
       "  <tbody>\n",
       "    <tr>\n",
       "      <th>0</th>\n",
       "      <td>Very interested</td>\n",
       "      <td>Very interested</td>\n",
       "      <td>Very interested</td>\n",
       "      <td>Very interested</td>\n",
       "      <td>Very interested</td>\n",
       "      <td>Very interested</td>\n",
       "      <td>Only slightly interested</td>\n",
       "      <td>Very interested</td>\n",
       "      <td>Very interested</td>\n",
       "      <td>Very interested</td>\n",
       "      <td>Very interested</td>\n",
       "      <td>Very interested</td>\n",
       "      <td>Very interested</td>\n",
       "      <td>Very interested</td>\n",
       "    </tr>\n",
       "    <tr>\n",
       "      <th>1</th>\n",
       "      <td>Very interested</td>\n",
       "      <td>Interested</td>\n",
       "      <td>Very interested</td>\n",
       "      <td>Only slightly interested</td>\n",
       "      <td>Only slightly interested</td>\n",
       "      <td>Not interested</td>\n",
       "      <td>Only slightly interested</td>\n",
       "      <td>Very interested</td>\n",
       "      <td>Very interested</td>\n",
       "      <td>Interested</td>\n",
       "      <td>Not interested</td>\n",
       "      <td>Interested</td>\n",
       "      <td>Only slightly interested</td>\n",
       "      <td>Only slightly interested</td>\n",
       "    </tr>\n",
       "    <tr>\n",
       "      <th>2</th>\n",
       "      <td>Very interested</td>\n",
       "      <td>Very interested</td>\n",
       "      <td>Very interested</td>\n",
       "      <td>Interested</td>\n",
       "      <td>Only slightly interested</td>\n",
       "      <td>Interested</td>\n",
       "      <td>Not interested</td>\n",
       "      <td>Not interested</td>\n",
       "      <td>Interested</td>\n",
       "      <td>Only slightly interested</td>\n",
       "      <td>Only slightly interested</td>\n",
       "      <td>Very interested</td>\n",
       "      <td>Only slightly interested</td>\n",
       "      <td>Only slightly interested</td>\n",
       "    </tr>\n",
       "  </tbody>\n",
       "</table>\n",
       "</div>"
      ],
      "text/plain": [
       "  Data Visualization Principles Visualization: Dynamic & Interactive  \\\n",
       "0               Very interested                      Very interested   \n",
       "1               Very interested                           Interested   \n",
       "2               Very interested                      Very interested   \n",
       "\n",
       "  Statistical/Machine Learning methods Natural Language Processing (NLP)  \\\n",
       "0                      Very interested                   Very interested   \n",
       "1                      Very interested          Only slightly interested   \n",
       "2                      Very interested                        Interested   \n",
       "\n",
       "         Hadoop & MapReduce UNIX Shell Tools & Programming  \\\n",
       "0           Very interested                Very interested   \n",
       "1  Only slightly interested                 Not interested   \n",
       "2  Only slightly interested                     Interested   \n",
       "\n",
       "          Introduction to R Introduction to Python Parallel Programming  \\\n",
       "0  Only slightly interested        Very interested      Very interested   \n",
       "1  Only slightly interested        Very interested      Very interested   \n",
       "2            Not interested         Not interested           Interested   \n",
       "\n",
       "  Using Graphical Processing Units (GPUs)  Version Control with git  \\\n",
       "0                         Very interested           Very interested   \n",
       "1                              Interested            Not interested   \n",
       "2                Only slightly interested  Only slightly interested   \n",
       "\n",
       "  Reproducible Computations, Dynamic Documents with R and/or IPython  \\\n",
       "0                                    Very interested                   \n",
       "1                                         Interested                   \n",
       "2                                    Very interested                   \n",
       "\n",
       "  Introduction to Cloud Computing       Basics of Databases  \n",
       "0                 Very interested           Very interested  \n",
       "1        Only slightly interested  Only slightly interested  \n",
       "2        Only slightly interested  Only slightly interested  "
      ]
     },
     "execution_count": 1,
     "metadata": {},
     "output_type": "execute_result"
    }
   ],
   "source": [
    "import pandas as pd\n",
    "df = pd.read_csv('WorkshopSurvey.csv')\n",
    "topics = df.filter(regex=r'^Please.', axis=1)\n",
    "topics.columns = [t.split('[')[1][:-1] for t in topics.columns]\n",
    "print('Number of responses: {}'.format(len(topics)))\n",
    "topics.head(3)"
   ]
  },
  {
   "cell_type": "code",
   "execution_count": 2,
   "metadata": {
    "collapsed": false,
    "slideshow": {
     "slide_type": "slide"
    }
   },
   "outputs": [
    {
     "data": {
      "text/plain": [
       "<matplotlib.axes._subplots.AxesSubplot at 0x7f60728fdcf8>"
      ]
     },
     "execution_count": 2,
     "metadata": {},
     "output_type": "execute_result"
    },
    {
     "data": {
      "image/png": "[encoded data removed]",
      "text/plain": [
       "<matplotlib.figure.Figure at 0x7f60728fd240>"
      ]
     },
     "metadata": {},
     "output_type": "display_data"
    }
   ],
   "source": [
    "interest = topics.apply(pd.Series.value_counts)\n",
    "interest = interest.reindex(['Very interested', 'Interested',\n",
    "                             'Only slightly interested', 'Not interested'])\n",
    "\n",
    "%matplotlib inline\n",
    "from IPython.core.pylabtools import figsize\n",
    "figsize(10, 8)\n",
    "interest.T.sort_values('Very interested').plot(kind='bar', stacked=True)"
   ]
  },
  {
   "cell_type": "code",
   "execution_count": 3,
   "metadata": {
    "collapsed": false,
    "slideshow": {
     "slide_type": "slide"
    }
   },
   "outputs": [
    {
     "name": "stdout",
     "output_type": "stream",
     "text": [
      "Spatial Statistics, Game theory/decision making, Big data Applications in Economics, Business, GIS and etc, Training on presentation and writing skills on data science.\n",
      "\n",
      "\n",
      "Hi! This is such a great idea!!! Is there a listserv I can join with updates and event announcements? I'm in the astronomy/physics dept. My UCD email is <retracted>, I would love to join if possible!\n",
      "\n",
      "Ali\n",
      "\n",
      "\n",
      "Introduction to R:\n",
      "Titanic: Machine Learning from Disaster\n",
      "<https://www.kaggle.com/c/titanic-gettingStarted>\n",
      "<https://www.kaggle.com/c/titanic-gettingStarted/details/new-getting-started-with-r>\n",
      "\n",
      "\n",
      "data scraping from the web.\n",
      "\n",
      "\n",
      "Data mining\n",
      "\n",
      "\n",
      "In the health fields, we could really use better support, and instruction, for multilevel modeling (i.e. mixed effects models).  We are starting to get a lot of repeated measures (time series) data about people's health, but few health researchers know how to analyze it.  And some of us have found that the statistical consulting available to us here at UCD is not real strong in this area.\n",
      "\n",
      "\n",
      "Spatial Data Analysis, Spatial Modeling\n",
      "\n",
      "\n",
      "I am an incoming graduate student of the Hydrologic Sciences Graduate Group of LAWR. I have little background in computing (some Matlab and ArcGIS model builder experience), and will utilize a lot of remote sensing images for my research. So, anything relating to processing these images (e.g. automation via Python, machine learning, speeding up the process) would\n",
      "\n",
      "\n",
      "SQL, the basic of Spark and Hive\n",
      "\n",
      "\n"
     ]
    }
   ],
   "source": [
    "for row in df['Suggest other topics for Workshops, Tutorials or Seminars'].dropna():\n",
    "    print(row)\n",
    "    print('\\n')"
   ]
  },
  {
   "cell_type": "markdown",
   "metadata": {
    "slideshow": {
     "slide_type": "slide"
    }
   },
   "source": [
    "# Discussion Topics\n",
    "\n",
    "- Do we keep meeting?\n",
    "- What should our purpose and goals be? Different that proposed?\n",
    "- How often to meet?\n",
    "- When to meet?\n",
    "- Assign tutorial topics for next quarters."
   ]
  }
 ],
 "metadata": {
  "celltoolbar": "Slideshow",
  "kernelspec": {
   "display_name": "Python 3",
   "language": "python",
   "name": "python3"
  },
  "language_info": {
   "codemirror_mode": {
    "name": "ipython",
    "version": 3
   },
   "file_extension": ".py",
   "mimetype": "text/x-python",
   "name": "python",
   "nbconvert_exporter": "python",
   "pygments_lexer": "ipython3",
   "version": "3.5.1"
  }
 },
 "nbformat": 4,
 "nbformat_minor": 0
}
